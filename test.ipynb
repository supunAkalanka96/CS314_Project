{
 "cells": [
  {
   "cell_type": "code",
   "execution_count": 3,
   "id": "876f66d8",
   "metadata": {},
   "outputs": [],
   "source": [
    "import cv2\n",
    "import numpy as np\n",
    "\n",
    "inputImage = cv2.imread(\"Tab01.jpg\")\n",
    "# dim = (1653,2339)\n",
    "#inputImage = cv2.resize(inputImage, dim, interpolation = cv2.INTER_AREA)\n",
    "# Store a copy for results:\n",
    "inputCopy = inputImage.copy()\n",
    "\n",
    "# Convert BGR to grayscale:\n",
    "grayInput = cv2.cvtColor(inputImage, cv2.COLOR_BGR2GRAY)\n",
    "\n",
    "# Set a lower and upper range for the threshold:\n",
    "lowerThresh = 50\n",
    "upperThresh = 235\n",
    "\n",
    "# Get the lines mask:\n"
   ]
  },
  {
   "cell_type": "code",
   "execution_count": 4,
   "id": "52404ea9",
   "metadata": {},
   "outputs": [],
   "source": [
    "def areaFilter(minArea, inputImage):\n",
    "    # Perform an area filter on the binary blobs:\n",
    "    componentsNumber, labeledImage, componentStats, componentCentroids = \\\n",
    "    cv2.connectedComponentsWithStats(inputImage, connectivity=4)\n",
    "\n",
    "    # Get the indices/labels of the remaining components based on the area stat\n",
    "    # (skip the background component at index 0)\n",
    "    remainingComponentLabels = [i for i in range(1, componentsNumber) if componentStats[i][4] >= minArea]\n",
    "\n",
    "    # Filter the labeled pixels based on the remaining labels,\n",
    "    # assign pixel intensity to 255 (uint8) for the remaining pixels\n",
    "    filteredImage = np.where(np.isin(labeledImage, remainingComponentLabels) == True, 255, 0).astype('uint8')\n",
    "\n",
    "    return filteredImage"
   ]
  },
  {
   "cell_type": "code",
   "execution_count": 9,
   "id": "14b449f8",
   "metadata": {},
   "outputs": [
    {
     "data": {
      "text/plain": [
       "-1"
      ]
     },
     "execution_count": 9,
     "metadata": {},
     "output_type": "execute_result"
    }
   ],
   "source": [
    "mask = cv2.inRange(grayInput, lowerThresh, upperThresh)\n",
    "cv2.imshow(\"horizontal_line\",mask)\n",
    "cv2.waitKey(0)"
   ]
  },
  {
   "cell_type": "code",
   "execution_count": 10,
   "id": "8fa55e4d",
   "metadata": {},
   "outputs": [
    {
     "data": {
      "text/plain": [
       "-1"
      ]
     },
     "execution_count": 10,
     "metadata": {},
     "output_type": "execute_result"
    }
   ],
   "source": [
    "minArea = 100\n",
    "mask = areaFilter(minArea, mask)\n",
    "cv2.imshow(\"horizontal_line\",mask)\n",
    "cv2.waitKey(0)"
   ]
  },
  {
   "cell_type": "code",
   "execution_count": 11,
   "id": "77d15375",
   "metadata": {},
   "outputs": [],
   "source": [
    "reducedImage = cv2.reduce(mask, 1, cv2.REDUCE_MAX)"
   ]
  },
  {
   "cell_type": "code",
   "execution_count": 12,
   "id": "1ae4e911",
   "metadata": {},
   "outputs": [],
   "source": [
    "# Find the big contours/blobs on the filtered image:\n",
    "contours, hierarchy = cv2.findContours(mask, cv2.RETR_CCOMP, cv2.CHAIN_APPROX_SIMPLE)\n",
    "\n",
    "# Store the lines here:\n",
    "separatingLines = []\n",
    "\n",
    "# We need some dimensions of the original image:\n",
    "imageHeight = inputCopy.shape[0]\n",
    "imageWidth = inputCopy.shape[1]\n",
    "\n",
    "# Look for the outer bounding boxes:\n",
    "for _, c in enumerate(contours):\n",
    "\n",
    "    # Approximate the contour to a polygon:\n",
    "    contoursPoly = cv2.approxPolyDP(c, 3, True)\n",
    "\n",
    "    # Convert the polygon to a bounding rectangle:\n",
    "    boundRect = cv2.boundingRect(contoursPoly)\n",
    "\n",
    "    # Get the bounding rect's data:\n",
    "    [x, y, w, h] = boundRect\n",
    "\n",
    "    # Start point and end point:\n",
    "    lineCenter = y + (0.5 * h)\n",
    "    startPoint = (0,int(lineCenter))\n",
    "    endPoint = (int(imageWidth), int(lineCenter))\n",
    "\n",
    "    # Store the end point in list:\n",
    "    separatingLines.append( endPoint )\n",
    "\n",
    "    # Draw the line using the start and end points:\n",
    "    color = (0, 255, 0)\n",
    "    cv2.line(inputCopy, startPoint, endPoint, color, 2)\n",
    "\n",
    "    # Show the image:\n",
    "    cv2.imshow(\"inputCopy\", inputCopy)\n",
    "    cv2.waitKey(0)"
   ]
  },
  {
   "cell_type": "code",
   "execution_count": 13,
   "id": "122f9ad3",
   "metadata": {},
   "outputs": [
    {
     "ename": "error",
     "evalue": "OpenCV(4.2.0) C:\\projects\\opencv-python\\opencv\\modules\\imgcodecs\\src\\loadsave.cpp:715: error: (-215:Assertion failed) !_img.empty() in function 'cv::imwrite'\n",
     "output_type": "error",
     "traceback": [
      "\u001b[1;31m---------------------------------------------------------------------------\u001b[0m",
      "\u001b[1;31merror\u001b[0m                                     Traceback (most recent call last)",
      "\u001b[1;32m~\\AppData\\Local\\Temp/ipykernel_7692/444651175.py\u001b[0m in \u001b[0;36m<module>\u001b[1;34m\u001b[0m\n\u001b[0;32m     19\u001b[0m     \u001b[1;31m# Crop the ROI:\u001b[0m\u001b[1;33m\u001b[0m\u001b[1;33m\u001b[0m\u001b[1;33m\u001b[0m\u001b[0m\n\u001b[0;32m     20\u001b[0m     \u001b[0mcurrentCrop\u001b[0m \u001b[1;33m=\u001b[0m \u001b[0minputImage\u001b[0m\u001b[1;33m[\u001b[0m\u001b[0my\u001b[0m\u001b[1;33m:\u001b[0m\u001b[0my\u001b[0m \u001b[1;33m+\u001b[0m \u001b[0mcropHeight\u001b[0m\u001b[1;33m,\u001b[0m \u001b[0mx\u001b[0m\u001b[1;33m:\u001b[0m\u001b[0mx\u001b[0m \u001b[1;33m+\u001b[0m \u001b[0mcropWidth\u001b[0m\u001b[1;33m]\u001b[0m\u001b[1;33m\u001b[0m\u001b[1;33m\u001b[0m\u001b[0m\n\u001b[1;32m---> 21\u001b[1;33m     \u001b[0mcv2\u001b[0m\u001b[1;33m.\u001b[0m\u001b[0mimwrite\u001b[0m\u001b[1;33m(\u001b[0m\u001b[1;34mf'{i}'\u001b[0m \u001b[1;33m+\u001b[0m \u001b[1;34m\".jpg\"\u001b[0m\u001b[1;33m,\u001b[0m\u001b[0mcurrentCrop\u001b[0m\u001b[1;33m)\u001b[0m\u001b[1;33m\u001b[0m\u001b[1;33m\u001b[0m\u001b[0m\n\u001b[0m\u001b[0;32m     22\u001b[0m     \u001b[1;31m#cv2.imshow(\"Current Crop\", currentCrop)\u001b[0m\u001b[1;33m\u001b[0m\u001b[1;33m\u001b[0m\u001b[1;33m\u001b[0m\u001b[0m\n\u001b[0;32m     23\u001b[0m     \u001b[1;31m#cv2.waitKey(0)\u001b[0m\u001b[1;33m\u001b[0m\u001b[1;33m\u001b[0m\u001b[1;33m\u001b[0m\u001b[0m\n",
      "\u001b[1;31merror\u001b[0m: OpenCV(4.2.0) C:\\projects\\opencv-python\\opencv\\modules\\imgcodecs\\src\\loadsave.cpp:715: error: (-215:Assertion failed) !_img.empty() in function 'cv::imwrite'\n"
     ]
    }
   ],
   "source": [
    "# Sort the list based on ascending Y values:\n",
    "separatingLines = sorted(separatingLines, key=lambda x: x[1])\n",
    "\n",
    "# The past processed vertical coordinate:\n",
    "pastY = 0\n",
    "\n",
    "# Crop the sections:\n",
    "for i in range(len(separatingLines)):\n",
    "\n",
    "    # Get the current line width and starting y:\n",
    "    (sectionWidth, sectionHeight) = separatingLines[i]\n",
    "\n",
    "    # Set the ROI:\n",
    "    x = 0\n",
    "    y = pastY\n",
    "    cropWidth = sectionWidth\n",
    "    cropHeight = sectionHeight - y\n",
    "\n",
    "    # Crop the ROI:\n",
    "    currentCrop = inputImage[y:y + cropHeight, x:x + cropWidth]\n",
    "    cv2.imwrite(f'{i}' + \".jpg\",currentCrop)\n",
    "    #cv2.imshow(\"Current Crop\", currentCrop)\n",
    "    #cv2.waitKey(0)\n",
    "\n",
    "    # Set the next starting vertical coordinate:\n",
    "    pastY = sectionHeight"
   ]
  },
  {
   "cell_type": "code",
   "execution_count": 39,
   "id": "788c2490",
   "metadata": {},
   "outputs": [
    {
     "data": {
      "text/plain": [
       "'1.jpg'"
      ]
     },
     "execution_count": 39,
     "metadata": {},
     "output_type": "execute_result"
    }
   ],
   "source": [
    "i = 1\n"
   ]
  },
  {
   "cell_type": "code",
   "execution_count": null,
   "id": "238dbe64",
   "metadata": {},
   "outputs": [],
   "source": []
  }
 ],
 "metadata": {
  "kernelspec": {
   "display_name": "Python 3 (ipykernel)",
   "language": "python",
   "name": "python3"
  },
  "language_info": {
   "codemirror_mode": {
    "name": "ipython",
    "version": 3
   },
   "file_extension": ".py",
   "mimetype": "text/x-python",
   "name": "python",
   "nbconvert_exporter": "python",
   "pygments_lexer": "ipython3",
   "version": "3.7.3"
  }
 },
 "nbformat": 4,
 "nbformat_minor": 5
}
